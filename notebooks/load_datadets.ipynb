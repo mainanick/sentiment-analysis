{
 "cells": [
  {
   "cell_type": "code",
   "execution_count": 1,
   "metadata": {
    "collapsed": true
   },
   "outputs": [],
   "source": [
    "import numpy as np\n",
    "import pandas as pd"
   ]
  },
  {
   "cell_type": "code",
   "execution_count": 48,
   "metadata": {},
   "outputs": [],
   "source": [
    "chunks = pd.read_csv('../datasets/amazon/test.csv', names=['sentiment', 'topic', 'text'], chunksize=30)"
   ]
  },
  {
   "cell_type": "code",
   "execution_count": 50,
   "metadata": {},
   "outputs": [
    {
     "name": "stdout",
     "output_type": "stream",
     "text": [
      "    sentiment                                               text\n",
      "30          2  This is the all time best book. She mentoins i...\n",
      "31          2  Can't believe I have never reviewed this book ...\n",
      "32          2  L.J. Smith is the best author in the whole wor...\n",
      "33          2  This book was so great! I loved and read it so...\n",
      "34          2  apart from it arriving broken the first time, ...\n",
      "35          1  My children get easily bored with this video. ...\n",
      "36          2  I went online for information about Dockers Kh...\n",
      "37          1  Merchant was out of stock on the second pair o...\n",
      "38          2  I had just finished reading 'The Food of Love'...\n",
      "39          1  A clichéd storyline based on the classic Cyran...\n",
      "40          2  This is a great CD!! I love WeiB Kreuz!! The a...\n",
      "41          1  I was looking forward to receiving this book, ...\n",
      "42          2  This book is simply great! If you build sites ...\n",
      "43          2  This is a tear-jerker mixed with humor. A lot ...\n",
      "44          2  love it...very touch.it's to bad that in the d...\n",
      "45          2  Danelectro DJ-20C Rocky Road Spin Speaker Mini...\n",
      "46          1  the reason i gave two stars when I usually giv...\n",
      "47          1  I have read all of the Carpathian novels to da...\n",
      "48          1  We purchased this bag for a vacation we were t...\n",
      "49          2  I was never really a big reader before and som...\n",
      "50          2  This is an awesome book. Kay just keeps gettin...\n",
      "51          2  Parricia Corwell, Cruel & Unusual was breathta...\n",
      "52          1  Saw this movie and felt compelled to warn peop...\n",
      "53          1  I should have known going into this movie havi...\n",
      "54          2  This has just about everything. The rabbi, of ...\n",
      "55          2  This grill is one of its kind...It can be use ...\n",
      "56          1  I had never read this author, but knew of many...\n",
      "57          2  This was a very good book with excellent descr...\n",
      "58          2  My first foray into the novels of Patricia Cor...\n",
      "59          2  the publisher said soon to be a movie. does an...\n",
      "    sentiment                                               text\n",
      "60          2  This was only my first Cornwell novel and I'm ...\n",
      "61          1  I have read all of the Scarpetta novels & this...\n",
      "62          2  Great racquet! But I'm a power hitter I have n...\n",
      "63          1  Started laughing in the second chapter....enjo...\n",
      "64          1  I was sorely disappointed in this vapid and sm...\n",
      "65          2  edith has created a venue for herself to exorc...\n",
      "66          2  I recently purchased this camera and I'm very ...\n",
      "67          1  The sizing is perfect and a medium fits just r...\n",
      "68          1  I think this product provided a great fit. I w...\n",
      "69          2  I love love love the squeem!!! The before and ...\n",
      "70          2  A friend recommended this product to flatten t...\n",
      "71          2  I ordered the Squeem waist shaper in a size sm...\n",
      "72          1  The squeem is a great idea but the constructio...\n",
      "73          1  I ordered this product to slim down my stomach...\n",
      "74          1  I was really unhappy with this. I followed wha...\n",
      "75          1  My wife loves it but we unfortunately perchace...\n",
      "76          2  I have been looking for something to hold in m...\n",
      "77          1  The author is very likely a Kurdish nationalis...\n",
      "78          1  This novella (stretched to 271 pages by wide m...\n",
      "79          1  I have read many of Jack Higgins' books and th...\n",
      "80          2  It's got a nice warm scent of vanilla-like sme...\n",
      "81          2  West is only fairly judged by the breadth of h...\n",
      "82          2  A refreshing, sunwarmed, beautifull change fro...\n",
      "83          1  I found it preachy and long and got.very bored...\n",
      "84          1  The abridged version of this book would read a...\n",
      "85          1  this book was recommend 2 me from my neighbor....\n",
      "86          2  I really enjoyed this book. It shows the judgm...\n",
      "87          1  This review refers to ISBN 978-1613823613. Wit...\n",
      "88          2  The creepiest book I've ever read! It's a cree...\n",
      "89          1  If this book is so great, then why are there s...\n"
     ]
    }
   ],
   "source": [
    "i = 0\n",
    "for chunk in chunks:\n",
    "    if i<2:\n",
    "        print(chunk[['sentiment','text']])\n",
    "        i=i+1"
   ]
  },
  {
   "cell_type": "code",
   "execution_count": null,
   "metadata": {},
   "outputs": [],
   "source": []
  },
  {
   "cell_type": "code",
   "execution_count": null,
   "metadata": {
    "collapsed": true
   },
   "outputs": [],
   "source": []
  }
 ],
 "metadata": {
  "kernelspec": {
   "display_name": "Python 3",
   "language": "python",
   "name": "python3"
  },
  "language_info": {
   "codemirror_mode": {
    "name": "ipython",
    "version": 3
   },
   "file_extension": ".py",
   "mimetype": "text/x-python",
   "name": "python",
   "nbconvert_exporter": "python",
   "pygments_lexer": "ipython3",
   "version": "3.6.1"
  }
 },
 "nbformat": 4,
 "nbformat_minor": 2
}
